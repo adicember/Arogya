{
 "cells": [
  {
   "cell_type": "code",
   "execution_count": 33,
   "metadata": {
    "execution": {
     "iopub.execute_input": "2025-01-29T09:53:26.446055Z",
     "iopub.status.busy": "2025-01-29T09:53:26.445412Z",
     "iopub.status.idle": "2025-01-29T09:53:31.374241Z",
     "shell.execute_reply": "2025-01-29T09:53:31.372945Z",
     "shell.execute_reply.started": "2025-01-29T09:53:26.446002Z"
    },
    "trusted": true
   },
   "outputs": [
    {
     "name": "stdout",
     "output_type": "stream",
     "text": [
      "Requirement already satisfied: tensorflow in /usr/local/lib/python3.10/dist-packages (2.18.0)\n",
      "Requirement already satisfied: absl-py>=1.0.0 in /usr/local/lib/python3.10/dist-packages (from tensorflow) (1.4.0)\n",
      "Requirement already satisfied: astunparse>=1.6.0 in /usr/local/lib/python3.10/dist-packages (from tensorflow) (1.6.3)\n",
      "Requirement already satisfied: flatbuffers>=24.3.25 in /usr/local/lib/python3.10/dist-packages (from tensorflow) (24.3.25)\n",
      "Requirement already satisfied: gast!=0.5.0,!=0.5.1,!=0.5.2,>=0.2.1 in /usr/local/lib/python3.10/dist-packages (from tensorflow) (0.6.0)\n",
      "Requirement already satisfied: google-pasta>=0.1.1 in /usr/local/lib/python3.10/dist-packages (from tensorflow) (0.2.0)\n",
      "Requirement already satisfied: libclang>=13.0.0 in /usr/local/lib/python3.10/dist-packages (from tensorflow) (18.1.1)\n",
      "Requirement already satisfied: opt-einsum>=2.3.2 in /usr/local/lib/python3.10/dist-packages (from tensorflow) (3.4.0)\n",
      "Requirement already satisfied: packaging in /usr/local/lib/python3.10/dist-packages (from tensorflow) (24.2)\n",
      "Requirement already satisfied: protobuf!=4.21.0,!=4.21.1,!=4.21.2,!=4.21.3,!=4.21.4,!=4.21.5,<6.0.0dev,>=3.20.3 in /usr/local/lib/python3.10/dist-packages (from tensorflow) (3.20.3)\n",
      "Requirement already satisfied: requests<3,>=2.21.0 in /usr/local/lib/python3.10/dist-packages (from tensorflow) (2.32.3)\n",
      "Requirement already satisfied: setuptools in /usr/local/lib/python3.10/dist-packages (from tensorflow) (75.1.0)\n",
      "Requirement already satisfied: six>=1.12.0 in /usr/local/lib/python3.10/dist-packages (from tensorflow) (1.17.0)\n",
      "Requirement already satisfied: termcolor>=1.1.0 in /usr/local/lib/python3.10/dist-packages (from tensorflow) (2.5.0)\n",
      "Requirement already satisfied: typing-extensions>=3.6.6 in /usr/local/lib/python3.10/dist-packages (from tensorflow) (4.12.2)\n",
      "Requirement already satisfied: wrapt>=1.11.0 in /usr/local/lib/python3.10/dist-packages (from tensorflow) (1.17.0)\n",
      "Requirement already satisfied: grpcio<2.0,>=1.24.3 in /usr/local/lib/python3.10/dist-packages (from tensorflow) (1.68.1)\n",
      "Requirement already satisfied: tensorboard<2.19,>=2.18 in /usr/local/lib/python3.10/dist-packages (from tensorflow) (2.18.0)\n",
      "Requirement already satisfied: keras>=3.5.0 in /usr/local/lib/python3.10/dist-packages (from tensorflow) (3.5.0)\n",
      "Requirement already satisfied: numpy<2.1.0,>=1.26.0 in /usr/local/lib/python3.10/dist-packages (from tensorflow) (1.26.4)\n",
      "Requirement already satisfied: h5py>=3.11.0 in /usr/local/lib/python3.10/dist-packages (from tensorflow) (3.12.1)\n",
      "Requirement already satisfied: ml-dtypes<0.5.0,>=0.4.0 in /usr/local/lib/python3.10/dist-packages (from tensorflow) (0.4.1)\n",
      "Requirement already satisfied: tensorflow-io-gcs-filesystem>=0.23.1 in /usr/local/lib/python3.10/dist-packages (from tensorflow) (0.37.1)\n",
      "Requirement already satisfied: wheel<1.0,>=0.23.0 in /usr/local/lib/python3.10/dist-packages (from astunparse>=1.6.0->tensorflow) (0.45.1)\n",
      "Requirement already satisfied: rich in /usr/local/lib/python3.10/dist-packages (from keras>=3.5.0->tensorflow) (13.9.4)\n",
      "Requirement already satisfied: namex in /usr/local/lib/python3.10/dist-packages (from keras>=3.5.0->tensorflow) (0.0.8)\n",
      "Requirement already satisfied: optree in /usr/local/lib/python3.10/dist-packages (from keras>=3.5.0->tensorflow) (0.13.1)\n",
      "Requirement already satisfied: mkl_fft in /usr/local/lib/python3.10/dist-packages (from numpy<2.1.0,>=1.26.0->tensorflow) (1.3.8)\n",
      "Requirement already satisfied: mkl_random in /usr/local/lib/python3.10/dist-packages (from numpy<2.1.0,>=1.26.0->tensorflow) (1.2.4)\n",
      "Requirement already satisfied: mkl_umath in /usr/local/lib/python3.10/dist-packages (from numpy<2.1.0,>=1.26.0->tensorflow) (0.1.1)\n",
      "Requirement already satisfied: mkl in /usr/local/lib/python3.10/dist-packages (from numpy<2.1.0,>=1.26.0->tensorflow) (2025.0.1)\n",
      "Requirement already satisfied: tbb4py in /usr/local/lib/python3.10/dist-packages (from numpy<2.1.0,>=1.26.0->tensorflow) (2022.0.0)\n",
      "Requirement already satisfied: mkl-service in /usr/local/lib/python3.10/dist-packages (from numpy<2.1.0,>=1.26.0->tensorflow) (2.4.1)\n",
      "Requirement already satisfied: charset-normalizer<4,>=2 in /usr/local/lib/python3.10/dist-packages (from requests<3,>=2.21.0->tensorflow) (3.4.0)\n",
      "Requirement already satisfied: idna<4,>=2.5 in /usr/local/lib/python3.10/dist-packages (from requests<3,>=2.21.0->tensorflow) (3.10)\n",
      "Requirement already satisfied: urllib3<3,>=1.21.1 in /usr/local/lib/python3.10/dist-packages (from requests<3,>=2.21.0->tensorflow) (2.2.3)\n",
      "Requirement already satisfied: certifi>=2017.4.17 in /usr/local/lib/python3.10/dist-packages (from requests<3,>=2.21.0->tensorflow) (2024.12.14)\n",
      "Requirement already satisfied: markdown>=2.6.8 in /usr/local/lib/python3.10/dist-packages (from tensorboard<2.19,>=2.18->tensorflow) (3.7)\n",
      "Requirement already satisfied: tensorboard-data-server<0.8.0,>=0.7.0 in /usr/local/lib/python3.10/dist-packages (from tensorboard<2.19,>=2.18->tensorflow) (0.7.2)\n",
      "Requirement already satisfied: werkzeug>=1.0.1 in /usr/local/lib/python3.10/dist-packages (from tensorboard<2.19,>=2.18->tensorflow) (3.1.3)\n",
      "Requirement already satisfied: MarkupSafe>=2.1.1 in /usr/local/lib/python3.10/dist-packages (from werkzeug>=1.0.1->tensorboard<2.19,>=2.18->tensorflow) (3.0.2)\n",
      "Requirement already satisfied: intel-openmp>=2024 in /usr/local/lib/python3.10/dist-packages (from mkl->numpy<2.1.0,>=1.26.0->tensorflow) (2024.2.0)\n",
      "Requirement already satisfied: tbb==2022.* in /usr/local/lib/python3.10/dist-packages (from mkl->numpy<2.1.0,>=1.26.0->tensorflow) (2022.0.0)\n",
      "Requirement already satisfied: tcmlib==1.* in /usr/local/lib/python3.10/dist-packages (from tbb==2022.*->mkl->numpy<2.1.0,>=1.26.0->tensorflow) (1.2.0)\n",
      "Requirement already satisfied: intel-cmplr-lib-rt in /usr/local/lib/python3.10/dist-packages (from mkl_umath->numpy<2.1.0,>=1.26.0->tensorflow) (2024.2.0)\n",
      "Requirement already satisfied: markdown-it-py>=2.2.0 in /usr/local/lib/python3.10/dist-packages (from rich->keras>=3.5.0->tensorflow) (3.0.0)\n",
      "Requirement already satisfied: pygments<3.0.0,>=2.13.0 in /usr/local/lib/python3.10/dist-packages (from rich->keras>=3.5.0->tensorflow) (2.18.0)\n",
      "Requirement already satisfied: intel-cmplr-lib-ur==2024.2.0 in /usr/local/lib/python3.10/dist-packages (from intel-openmp>=2024->mkl->numpy<2.1.0,>=1.26.0->tensorflow) (2024.2.0)\n",
      "Requirement already satisfied: mdurl~=0.1 in /usr/local/lib/python3.10/dist-packages (from markdown-it-py>=2.2.0->rich->keras>=3.5.0->tensorflow) (0.1.2)\n"
     ]
    }
   ],
   "source": [
    "!pip install --upgrade tensorflow"
   ]
  },
  {
   "cell_type": "code",
   "execution_count": 34,
   "metadata": {
    "_cell_guid": "b1076dfc-b9ad-4769-8c92-a6c4dae69d19",
    "_uuid": "8f2839f25d086af736a60e9eeb907d3b93b6e0e5",
    "execution": {
     "iopub.execute_input": "2025-01-29T09:53:31.376788Z",
     "iopub.status.busy": "2025-01-29T09:53:31.376325Z",
     "iopub.status.idle": "2025-01-29T09:53:35.565388Z",
     "shell.execute_reply": "2025-01-29T09:53:35.564198Z",
     "shell.execute_reply.started": "2025-01-29T09:53:31.376734Z"
    },
    "trusted": true
   },
   "outputs": [],
   "source": [
    "!pip install -q tensorflow-addons\n",
    "import os\n",
    "import numpy as np\n",
    "import pandas as pd\n",
    "import tensorflow as tf\n",
    "from tensorflow.keras import layers, models\n",
    "from tensorflow.keras.applications import MobileNetV2\n",
    "from tensorflow.keras.optimizers import Adam\n",
    "from sklearn.model_selection import train_test_split\n",
    "from sklearn.utils import class_weight\n",
    "from sklearn.metrics import classification_report\n",
    "import matplotlib.pyplot as plt\n",
    "from PIL import Image"
   ]
  },
  {
   "cell_type": "code",
   "execution_count": 35,
   "metadata": {
    "execution": {
     "iopub.execute_input": "2025-01-29T09:53:35.568123Z",
     "iopub.status.busy": "2025-01-29T09:53:35.567810Z",
     "iopub.status.idle": "2025-01-29T09:53:35.573247Z",
     "shell.execute_reply": "2025-01-29T09:53:35.572250Z",
     "shell.execute_reply.started": "2025-01-29T09:53:35.568091Z"
    },
    "trusted": true
   },
   "outputs": [],
   "source": [
    "# Dataset paths (Update these with your Kaggle dataset paths)\n",
    "PCOS_ROOT = '/kaggle/input/pcos-detection-using-ultrasound-images/data'\n",
    "COCO_TRAIN_PATH = '/kaggle/input/coco-2017-dataset/coco2017/train2017'\n",
    "PCOS_TRAIN_PATH = os.path.join(PCOS_ROOT, 'train')"
   ]
  },
  {
   "cell_type": "code",
   "execution_count": 36,
   "metadata": {
    "execution": {
     "iopub.execute_input": "2025-01-29T09:53:35.575186Z",
     "iopub.status.busy": "2025-01-29T09:53:35.574879Z",
     "iopub.status.idle": "2025-01-29T09:53:35.589330Z",
     "shell.execute_reply": "2025-01-29T09:53:35.588327Z",
     "shell.execute_reply.started": "2025-01-29T09:53:35.575161Z"
    },
    "trusted": true
   },
   "outputs": [
    {
     "name": "stdout",
     "output_type": "stream",
     "text": [
      "Directories created successfully!\n"
     ]
    }
   ],
   "source": [
    "import os\n",
    "\n",
    "def create_ultrasound_classifier_dataset():\n",
    "    \"\"\"Combine PCOS (ultrasound) and COCO (non-ultrasound) images\"\"\"\n",
    "    ultra_dir = '/kaggle/working/ultra_classifier/train/ultrasound'\n",
    "    non_ultra_dir = '/kaggle/working/ultra_classifier/train/non_ultrasound'\n",
    "\n",
    "    # Create directories if they don't exist\n",
    "    os.makedirs(ultra_dir, exist_ok=True)\n",
    "    os.makedirs(non_ultra_dir, exist_ok=True)\n",
    "\n",
    "    # Verify directory creation\n",
    "    if os.path.exists(ultra_dir) and os.path.exists(non_ultra_dir):\n",
    "        print(\"Directories created successfully!\")\n",
    "    else:\n",
    "        print(\"Directory creation failed.\")\n",
    "\n",
    "create_ultrasound_classifier_dataset()\n"
   ]
  },
  {
   "cell_type": "code",
   "execution_count": 37,
   "metadata": {
    "execution": {
     "iopub.execute_input": "2025-01-29T09:53:35.591065Z",
     "iopub.status.busy": "2025-01-29T09:53:35.590672Z",
     "iopub.status.idle": "2025-01-29T09:53:35.602667Z",
     "shell.execute_reply": "2025-01-29T09:53:35.601617Z",
     "shell.execute_reply.started": "2025-01-29T09:53:35.591028Z"
    },
    "trusted": true
   },
   "outputs": [],
   "source": [
    "import shutil"
   ]
  },
  {
   "cell_type": "code",
   "execution_count": 38,
   "metadata": {
    "execution": {
     "iopub.execute_input": "2025-01-29T09:53:35.604523Z",
     "iopub.status.busy": "2025-01-29T09:53:35.604046Z",
     "iopub.status.idle": "2025-01-29T09:54:05.345352Z",
     "shell.execute_reply": "2025-01-29T09:54:05.344165Z",
     "shell.execute_reply.started": "2025-01-29T09:53:35.604422Z"
    },
    "trusted": true
   },
   "outputs": [
    {
     "name": "stdout",
     "output_type": "stream",
     "text": [
      "Directories created successfully!\n"
     ]
    }
   ],
   "source": [
    "  # Copy COCO non-ultrasound images\n",
    "coco_images = np.random.choice(os.listdir(COCO_TRAIN_PATH), 2500)\n",
    "for img in coco_images:\n",
    "    src = os.path.join(COCO_TRAIN_PATH, img)\n",
    "    dst = f'/kaggle/working/ultra_classifier/train/non_ultrasound/{img}'\n",
    "    if not os.path.exists(dst):\n",
    "        shutil.copy(src, dst)\n",
    "\n",
    "create_ultrasound_classifier_dataset()"
   ]
  },
  {
   "cell_type": "code",
   "execution_count": 39,
   "metadata": {
    "execution": {
     "iopub.execute_input": "2025-01-29T09:54:05.347098Z",
     "iopub.status.busy": "2025-01-29T09:54:05.346709Z",
     "iopub.status.idle": "2025-01-29T09:54:05.351839Z",
     "shell.execute_reply": "2025-01-29T09:54:05.350805Z",
     "shell.execute_reply.started": "2025-01-29T09:54:05.347059Z"
    },
    "trusted": true
   },
   "outputs": [],
   "source": [
    "def create_ultrasound_classifier_dataset():\n",
    "    \"\"\"Create directories for ultrasound and non-ultrasound images\"\"\"\n",
    "    ultra_dir = '/kaggle/working/ultra_classifier/train/ultrasound'\n",
    "    non_ultra_dir = '/kaggle/working/ultra_classifier/train/non_ultrasound'\n",
    "\n",
    "    os.makedirs(ultra_dir, exist_ok=True)\n",
    "    os.makedirs(non_ultra_dir, exist_ok=True)\n",
    "\n",
    "    return ultra_dir  # Return the path"
   ]
  },
  {
   "cell_type": "code",
   "execution_count": 40,
   "metadata": {
    "execution": {
     "iopub.execute_input": "2025-01-29T09:54:05.355144Z",
     "iopub.status.busy": "2025-01-29T09:54:05.354849Z",
     "iopub.status.idle": "2025-01-29T09:54:05.375930Z",
     "shell.execute_reply": "2025-01-29T09:54:05.374865Z",
     "shell.execute_reply.started": "2025-01-29T09:54:05.355120Z"
    },
    "trusted": true
   },
   "outputs": [],
   "source": [
    "# Call the function and store the directory path\n",
    "ultra_dir = create_ultrasound_classifier_dataset()"
   ]
  },
  {
   "cell_type": "code",
   "execution_count": 41,
   "metadata": {
    "execution": {
     "iopub.execute_input": "2025-01-29T09:54:05.378736Z",
     "iopub.status.busy": "2025-01-29T09:54:05.378365Z",
     "iopub.status.idle": "2025-01-29T09:54:05.455116Z",
     "shell.execute_reply": "2025-01-29T09:54:05.454092Z",
     "shell.execute_reply.started": "2025-01-29T09:54:05.378697Z"
    },
    "trusted": true
   },
   "outputs": [
    {
     "name": "stdout",
     "output_type": "stream",
     "text": [
      "PCOS ultrasound images copied successfully.\n"
     ]
    }
   ],
   "source": [
    "# Copy PCOS ultrasound images to ultra_dir\n",
    "for split in ['train', 'test']:\n",
    "    for label in ['infected', 'notinfected']:\n",
    "        pcos_dir = os.path.join(PCOS_ROOT, split, label)\n",
    "        for img_file in os.listdir(pcos_dir):\n",
    "            src = os.path.join(pcos_dir, img_file)\n",
    "            dst = os.path.join(ultra_dir, img_file)  # ultra_dir is now properly assigned\n",
    "            if not os.path.exists(dst):\n",
    "                shutil.copy(src, dst)\n",
    "\n",
    "print(\"PCOS ultrasound images copied successfully.\")"
   ]
  },
  {
   "cell_type": "code",
   "execution_count": 42,
   "metadata": {
    "execution": {
     "iopub.execute_input": "2025-01-29T09:54:05.456897Z",
     "iopub.status.busy": "2025-01-29T09:54:05.456359Z",
     "iopub.status.idle": "2025-01-29T09:54:05.463843Z",
     "shell.execute_reply": "2025-01-29T09:54:05.462621Z",
     "shell.execute_reply.started": "2025-01-29T09:54:05.456859Z"
    },
    "trusted": true
   },
   "outputs": [],
   "source": [
    "# Build Ultrasound Classifier\n",
    "def build_ultrasound_classifier():\n",
    "    base_model = MobileNetV2(\n",
    "        input_shape=(224, 224, 3),\n",
    "        include_top=False,\n",
    "        weights='imagenet',\n",
    "        pooling='avg'\n",
    "    )\n",
    "    base_model.trainable = False #freeze layers to prevent retraining of model after feature extraction\n",
    "    \n",
    "    #define model architecture\n",
    "    model = models.Sequential([\n",
    "        layers.Input(shape=(224, 224, 3)),\n",
    "        base_model,\n",
    "        layers.Dense(128, activation='relu'), #128 neuron in dimensional vector for hidden layer\n",
    "        layers.Dropout(0.3), #drop 30% of neurons randomly to prevent overfitting\n",
    "        layers.Dense(1, activation='sigmoid') #1: single value, either 0 or 1\n",
    "    ])\n",
    "    \n",
    "    model.compile(\n",
    "        optimizer=Adam(0.0001),\n",
    "        loss='binary_crossentropy', #how far off the prediction is from the actual value\n",
    "        metrics=['accuracy']\n",
    "    )\n",
    "    return model"
   ]
  },
  {
   "cell_type": "code",
   "execution_count": 43,
   "metadata": {
    "execution": {
     "iopub.execute_input": "2025-01-29T09:54:05.465527Z",
     "iopub.status.busy": "2025-01-29T09:54:05.465167Z",
     "iopub.status.idle": "2025-01-29T09:54:06.465943Z",
     "shell.execute_reply": "2025-01-29T09:54:06.464797Z",
     "shell.execute_reply.started": "2025-01-29T09:54:05.465474Z"
    },
    "trusted": true
   },
   "outputs": [
    {
     "name": "stdout",
     "output_type": "stream",
     "text": [
      "Removing corrupt file: /kaggle/working/ultra_classifier/train/ultrasound/WhatsApp Image 2022-04-01 at 3.50.05 PM.jpeg\n",
      "Removing corrupt file: /kaggle/working/ultra_classifier/train/ultrasound/OIP (1).jpg\n",
      "Removing corrupt file: /kaggle/working/ultra_classifier/train/ultrasound/OIP.jpg\n",
      "Removing corrupt file: /kaggle/working/ultra_classifier/train/ultrasound/R.jpg\n",
      "Removing corrupt file: /kaggle/working/ultra_classifier/train/ultrasound/WhatsApp Image 2022-04-01 at 3.49.22 PM.jpeg\n",
      "Removing corrupt file: /kaggle/working/ultra_classifier/train/ultrasound/WhatsApp Image 2022-04-01 at 3.49.45 PM.jpeg\n",
      "Removing corrupt file: /kaggle/working/ultra_classifier/train/ultrasound/WhatsApp Image 2022-04-01 at 3.35.25 PM.jpeg\n",
      "Removing corrupt file: /kaggle/working/ultra_classifier/train/ultrasound/WhatsApp Image 2022-04-01 at 3.50.20 PM.jpeg\n",
      "Removing corrupt file: /kaggle/working/ultra_classifier/train/ultrasound/WhatsApp Image 2022-04-01 at 3.39.07 PM.jpeg\n"
     ]
    }
   ],
   "source": [
    "from PIL import Image\n",
    "import os\n",
    "\n",
    "def check_and_remove_corrupt_images(directory):\n",
    "    \"\"\"Scans and removes corrupt or non-image files.\"\"\"\n",
    "    for root, _, files in os.walk(directory):\n",
    "        for file in files:\n",
    "            file_path = os.path.join(root, file)\n",
    "            try:\n",
    "                img = Image.open(file_path)  # Try opening the image\n",
    "                img.verify()  # Check if it’s a valid image\n",
    "            except (IOError, OSError):\n",
    "                print(f\"Removing corrupt file: {file_path}\")\n",
    "                os.remove(file_path)  # Delete corrupt file\n",
    "\n",
    "# Run this check on your dataset directories\n",
    "check_and_remove_corrupt_images('/kaggle/working/ultra_classifier/train')\n"
   ]
  },
  {
   "cell_type": "code",
   "execution_count": 44,
   "metadata": {
    "execution": {
     "iopub.execute_input": "2025-01-29T09:54:06.467370Z",
     "iopub.status.busy": "2025-01-29T09:54:06.467081Z",
     "iopub.status.idle": "2025-01-29T10:22:30.129164Z",
     "shell.execute_reply": "2025-01-29T10:22:30.127551Z",
     "shell.execute_reply.started": "2025-01-29T09:54:06.467345Z"
    },
    "trusted": true
   },
   "outputs": [
    {
     "name": "stdout",
     "output_type": "stream",
     "text": [
      "Found 5386 images belonging to 2 classes.\n",
      "Found 1345 images belonging to 2 classes.\n",
      "Epoch 1/10\n",
      "\u001b[1m169/169\u001b[0m \u001b[32m━━━━━━━━━━━━━━━━━━━━\u001b[0m\u001b[37m\u001b[0m \u001b[1m203s\u001b[0m 1s/step - accuracy: 0.8926 - loss: 0.2360 - val_accuracy: 1.0000 - val_loss: 0.0053\n",
      "Epoch 2/10\n",
      "\u001b[1m169/169\u001b[0m \u001b[32m━━━━━━━━━━━━━━━━━━━━\u001b[0m\u001b[37m\u001b[0m \u001b[1m158s\u001b[0m 931ms/step - accuracy: 1.0000 - loss: 0.0064 - val_accuracy: 1.0000 - val_loss: 0.0017\n",
      "Epoch 3/10\n",
      "\u001b[1m169/169\u001b[0m \u001b[32m━━━━━━━━━━━━━━━━━━━━\u001b[0m\u001b[37m\u001b[0m \u001b[1m161s\u001b[0m 945ms/step - accuracy: 1.0000 - loss: 0.0027 - val_accuracy: 1.0000 - val_loss: 8.9868e-04\n",
      "Epoch 4/10\n",
      "\u001b[1m169/169\u001b[0m \u001b[32m━━━━━━━━━━━━━━━━━━━━\u001b[0m\u001b[37m\u001b[0m \u001b[1m162s\u001b[0m 953ms/step - accuracy: 1.0000 - loss: 0.0013 - val_accuracy: 1.0000 - val_loss: 5.3761e-04\n",
      "Epoch 5/10\n",
      "\u001b[1m169/169\u001b[0m \u001b[32m━━━━━━━━━━━━━━━━━━━━\u001b[0m\u001b[37m\u001b[0m \u001b[1m170s\u001b[0m 997ms/step - accuracy: 1.0000 - loss: 8.0858e-04 - val_accuracy: 1.0000 - val_loss: 3.7451e-04\n",
      "Epoch 6/10\n",
      "\u001b[1m169/169\u001b[0m \u001b[32m━━━━━━━━━━━━━━━━━━━━\u001b[0m\u001b[37m\u001b[0m \u001b[1m159s\u001b[0m 937ms/step - accuracy: 1.0000 - loss: 6.1804e-04 - val_accuracy: 1.0000 - val_loss: 2.5967e-04\n",
      "Epoch 7/10\n",
      "\u001b[1m169/169\u001b[0m \u001b[32m━━━━━━━━━━━━━━━━━━━━\u001b[0m\u001b[37m\u001b[0m \u001b[1m169s\u001b[0m 992ms/step - accuracy: 1.0000 - loss: 4.1438e-04 - val_accuracy: 1.0000 - val_loss: 2.0772e-04\n",
      "Epoch 8/10\n",
      "\u001b[1m169/169\u001b[0m \u001b[32m━━━━━━━━━━━━━━━━━━━━\u001b[0m\u001b[37m\u001b[0m \u001b[1m158s\u001b[0m 927ms/step - accuracy: 1.0000 - loss: 3.4158e-04 - val_accuracy: 1.0000 - val_loss: 1.6209e-04\n",
      "Epoch 9/10\n",
      "\u001b[1m169/169\u001b[0m \u001b[32m━━━━━━━━━━━━━━━━━━━━\u001b[0m\u001b[37m\u001b[0m \u001b[1m161s\u001b[0m 949ms/step - accuracy: 1.0000 - loss: 2.8774e-04 - val_accuracy: 1.0000 - val_loss: 1.3303e-04\n",
      "Epoch 10/10\n",
      "\u001b[1m169/169\u001b[0m \u001b[32m━━━━━━━━━━━━━━━━━━━━\u001b[0m\u001b[37m\u001b[0m \u001b[1m158s\u001b[0m 929ms/step - accuracy: 1.0000 - loss: 2.2885e-04 - val_accuracy: 1.0000 - val_loss: 1.0254e-04\n"
     ]
    }
   ],
   "source": [
    "# Train Ultrasound Classifier\n",
    "\n",
    "#data augmentation and preprocessing\n",
    "ultra_train_datagen = tf.keras.preprocessing.image.ImageDataGenerator(\n",
    "    rescale=1/255.0, #rescale pixel values to 0-1\n",
    "    validation_split=0.2 #20% of the data will be used for validation\n",
    ")\n",
    "\n",
    "train_generator = ultra_train_datagen.flow_from_directory(\n",
    "    '/kaggle/working/ultra_classifier/train',\n",
    "    target_size=(224, 224),\n",
    "    batch_size=32,\n",
    "    class_mode='binary',\n",
    "    subset='training' #only use training data as defined by validation_split in ImageDataGenerator\n",
    ")\n",
    "\n",
    "val_generator = ultra_train_datagen.flow_from_directory(\n",
    "    '/kaggle/working/ultra_classifier/train',\n",
    "    target_size=(224, 224),\n",
    "    batch_size=32,\n",
    "    class_mode='binary',\n",
    "    subset='validation'\n",
    ")\n",
    "\n",
    "usg_classifier = build_ultrasound_classifier() #calls usg classifier\n",
    "usg_history = usg_classifier.fit( \n",
    "    train_generator, #train model \n",
    "    validation_data=val_generator, #supplies validation data for evaluation\n",
    "    epochs=10\n",
    ")"
   ]
  },
  {
   "cell_type": "code",
   "execution_count": 45,
   "metadata": {
    "execution": {
     "iopub.execute_input": "2025-01-29T10:22:30.131028Z",
     "iopub.status.busy": "2025-01-29T10:22:30.130724Z",
     "iopub.status.idle": "2025-01-29T10:22:30.135803Z",
     "shell.execute_reply": "2025-01-29T10:22:30.134585Z",
     "shell.execute_reply.started": "2025-01-29T10:22:30.131003Z"
    },
    "trusted": true
   },
   "outputs": [],
   "source": [
    "# ===========================\n",
    "# 3. PCOS Detection Model\n",
    "# ==========================="
   ]
  },
  {
   "cell_type": "code",
   "execution_count": 46,
   "metadata": {
    "execution": {
     "iopub.execute_input": "2025-01-29T10:22:30.137243Z",
     "iopub.status.busy": "2025-01-29T10:22:30.136964Z",
     "iopub.status.idle": "2025-01-29T10:22:30.154464Z",
     "shell.execute_reply": "2025-01-29T10:22:30.153174Z",
     "shell.execute_reply.started": "2025-01-29T10:22:30.137220Z"
    },
    "trusted": true
   },
   "outputs": [],
   "source": [
    "from PIL import ImageFilter\n",
    "\n",
    "def apply_noise_removal(image):  \n",
    "    \"\"\"Apply Gaussian blur for noise removal.\"\"\"\n",
    "    return image.filter(ImageFilter.GaussianBlur(radius=1))"
   ]
  },
  {
   "cell_type": "code",
   "execution_count": 50,
   "metadata": {
    "execution": {
     "iopub.execute_input": "2025-01-29T10:25:26.175178Z",
     "iopub.status.busy": "2025-01-29T10:25:26.174705Z",
     "iopub.status.idle": "2025-01-29T10:25:26.185016Z",
     "shell.execute_reply": "2025-01-29T10:25:26.183942Z",
     "shell.execute_reply.started": "2025-01-29T10:25:26.175142Z"
    },
    "trusted": true
   },
   "outputs": [],
   "source": [
    "#loads images, noise removal, grayscale conversion, and filtering based on USG classifier\n",
    "def load_and_filter_pcos_data(batch_size=32):\n",
    "    image_paths = []\n",
    "    valid_labels = []\n",
    "    \n",
    "    # Process in directories to preserve label context\n",
    "    for split in ['train', 'test']: #process train and test directories\n",
    "        for label in ['infected', 'notinfected']:\n",
    "            dir_path = os.path.join(PCOS_ROOT, split, label)\n",
    "            batch_images = [] #temporary storage for images in current batch\n",
    "            batch_paths = []\n",
    "            \n",
    "            for img_file in os.listdir(dir_path): #loops through images in current directory\n",
    "                img_path = os.path.join(dir_path, img_file) #creates full path to image\n",
    "                try:\n",
    "                    img = Image.open(img_path).convert('RGB').resize((224, 224))\n",
    "                    img = apply_noise_removal(img)  # Apply noise removal\n",
    "                    img = img.convert('L')  # Convert to grayscale\n",
    "                    img = np.array(img.convert('RGB')) #ensure 3 channels remain\n",
    "                    batch_images.append(np.array(img)/255.0) #normalizes pixel\n",
    "                    batch_paths.append(img_path)\n",
    "                    \n",
    "                    #make predictions in currnet batch\n",
    "                    if len(batch_images) == batch_size: #if batch size is reached specified size pass to classifier\n",
    "                        preds = usg_classifier.predict(np.array(batch_images))\n",
    "                        # Filter and store with current label context\n",
    "                        for i, pred in enumerate(preds):\n",
    "                            if pred > 0.5:\n",
    "                                image_paths.append(batch_paths[i])\n",
    "                                valid_labels.append(1 if label == 'infected' else 0)\n",
    "                        batch_images = [] #reset batch images\n",
    "                        batch_paths = []\n",
    "                        \n",
    "                except Exception as e:\n",
    "                    print(f\"Skipped {img_path}: {str(e)}\")\n",
    "            \n",
    "            # Process remaining images in current label directory\n",
    "            if batch_images:\n",
    "                preds = usg_classifier.predict(np.array(batch_images))\n",
    "                for i, pred in enumerate(preds):\n",
    "                    if pred > 0.5:\n",
    "                        image_paths.append(batch_paths[i])\n",
    "                        valid_labels.append(1 if label == 'infected' else 0)\n",
    "    \n",
    "    return image_paths, valid_labels"
   ]
  },
  {
   "cell_type": "code",
   "execution_count": 51,
   "metadata": {
    "execution": {
     "iopub.execute_input": "2025-01-29T10:25:30.284295Z",
     "iopub.status.busy": "2025-01-29T10:25:30.283910Z",
     "iopub.status.idle": "2025-01-29T10:28:11.516459Z",
     "shell.execute_reply": "2025-01-29T10:28:11.515574Z",
     "shell.execute_reply.started": "2025-01-29T10:25:30.284263Z"
    },
    "trusted": true
   },
   "outputs": [
    {
     "name": "stdout",
     "output_type": "stream",
     "text": [
      "\u001b[1m1/1\u001b[0m \u001b[32m━━━━━━━━━━━━━━━━━━━━\u001b[0m\u001b[37m\u001b[0m \u001b[1m2s\u001b[0m 2s/step\n",
      "\u001b[1m1/1\u001b[0m \u001b[32m━━━━━━━━━━━━━━━━━━━━\u001b[0m\u001b[37m\u001b[0m \u001b[1m1s\u001b[0m 668ms/step\n",
      "\u001b[1m1/1\u001b[0m \u001b[32m━━━━━━━━━━━━━━━━━━━━\u001b[0m\u001b[37m\u001b[0m \u001b[1m1s\u001b[0m 684ms/step\n",
      "\u001b[1m1/1\u001b[0m \u001b[32m━━━━━━━━━━━━━━━━━━━━\u001b[0m\u001b[37m\u001b[0m \u001b[1m1s\u001b[0m 692ms/step\n",
      "\u001b[1m1/1\u001b[0m \u001b[32m━━━━━━━━━━━━━━━━━━━━\u001b[0m\u001b[37m\u001b[0m \u001b[1m1s\u001b[0m 1s/step\n",
      "\u001b[1m1/1\u001b[0m \u001b[32m━━━━━━━━━━━━━━━━━━━━\u001b[0m\u001b[37m\u001b[0m \u001b[1m1s\u001b[0m 1s/step\n",
      "\u001b[1m1/1\u001b[0m \u001b[32m━━━━━━━━━━━━━━━━━━━━\u001b[0m\u001b[37m\u001b[0m \u001b[1m1s\u001b[0m 827ms/step\n",
      "\u001b[1m1/1\u001b[0m \u001b[32m━━━━━━━━━━━━━━━━━━━━\u001b[0m\u001b[37m\u001b[0m \u001b[1m1s\u001b[0m 701ms/step\n",
      "\u001b[1m1/1\u001b[0m \u001b[32m━━━━━━━━━━━━━━━━━━━━\u001b[0m\u001b[37m\u001b[0m \u001b[1m1s\u001b[0m 691ms/step\n",
      "\u001b[1m1/1\u001b[0m \u001b[32m━━━━━━━━━━━━━━━━━━━━\u001b[0m\u001b[37m\u001b[0m \u001b[1m1s\u001b[0m 683ms/step\n",
      "\u001b[1m1/1\u001b[0m \u001b[32m━━━━━━━━━━━━━━━━━━━━\u001b[0m\u001b[37m\u001b[0m \u001b[1m1s\u001b[0m 684ms/step\n",
      "\u001b[1m1/1\u001b[0m \u001b[32m━━━━━━━━━━━━━━━━━━━━\u001b[0m\u001b[37m\u001b[0m \u001b[1m1s\u001b[0m 725ms/step\n",
      "\u001b[1m1/1\u001b[0m \u001b[32m━━━━━━━━━━━━━━━━━━━━\u001b[0m\u001b[37m\u001b[0m \u001b[1m1s\u001b[0m 688ms/step\n",
      "\u001b[1m1/1\u001b[0m \u001b[32m━━━━━━━━━━━━━━━━━━━━\u001b[0m\u001b[37m\u001b[0m \u001b[1m1s\u001b[0m 692ms/step\n",
      "\u001b[1m1/1\u001b[0m \u001b[32m━━━━━━━━━━━━━━━━━━━━\u001b[0m\u001b[37m\u001b[0m \u001b[1m1s\u001b[0m 687ms/step\n",
      "\u001b[1m1/1\u001b[0m \u001b[32m━━━━━━━━━━━━━━━━━━━━\u001b[0m\u001b[37m\u001b[0m \u001b[1m1s\u001b[0m 684ms/step\n",
      "\u001b[1m1/1\u001b[0m \u001b[32m━━━━━━━━━━━━━━━━━━━━\u001b[0m\u001b[37m\u001b[0m \u001b[1m1s\u001b[0m 677ms/step\n",
      "\u001b[1m1/1\u001b[0m \u001b[32m━━━━━━━━━━━━━━━━━━━━\u001b[0m\u001b[37m\u001b[0m \u001b[1m1s\u001b[0m 694ms/step\n",
      "\u001b[1m1/1\u001b[0m \u001b[32m━━━━━━━━━━━━━━━━━━━━\u001b[0m\u001b[37m\u001b[0m \u001b[1m1s\u001b[0m 688ms/step\n",
      "\u001b[1m1/1\u001b[0m \u001b[32m━━━━━━━━━━━━━━━━━━━━\u001b[0m\u001b[37m\u001b[0m \u001b[1m1s\u001b[0m 686ms/step\n",
      "\u001b[1m1/1\u001b[0m \u001b[32m━━━━━━━━━━━━━━━━━━━━\u001b[0m\u001b[37m\u001b[0m \u001b[1m1s\u001b[0m 719ms/step\n",
      "\u001b[1m1/1\u001b[0m \u001b[32m━━━━━━━━━━━━━━━━━━━━\u001b[0m\u001b[37m\u001b[0m \u001b[1m1s\u001b[0m 771ms/step\n",
      "\u001b[1m1/1\u001b[0m \u001b[32m━━━━━━━━━━━━━━━━━━━━\u001b[0m\u001b[37m\u001b[0m \u001b[1m1s\u001b[0m 861ms/step\n",
      "\u001b[1m1/1\u001b[0m \u001b[32m━━━━━━━━━━━━━━━━━━━━\u001b[0m\u001b[37m\u001b[0m \u001b[1m1s\u001b[0m 683ms/step\n",
      "\u001b[1m1/1\u001b[0m \u001b[32m━━━━━━━━━━━━━━━━━━━━\u001b[0m\u001b[37m\u001b[0m \u001b[1m1s\u001b[0m 1s/step\n",
      "\u001b[1m1/1\u001b[0m \u001b[32m━━━━━━━━━━━━━━━━━━━━\u001b[0m\u001b[37m\u001b[0m \u001b[1m1s\u001b[0m 671ms/step\n",
      "\u001b[1m1/1\u001b[0m \u001b[32m━━━━━━━━━━━━━━━━━━━━\u001b[0m\u001b[37m\u001b[0m \u001b[1m1s\u001b[0m 678ms/step\n",
      "\u001b[1m1/1\u001b[0m \u001b[32m━━━━━━━━━━━━━━━━━━━━\u001b[0m\u001b[37m\u001b[0m \u001b[1m1s\u001b[0m 718ms/step\n",
      "\u001b[1m1/1\u001b[0m \u001b[32m━━━━━━━━━━━━━━━━━━━━\u001b[0m\u001b[37m\u001b[0m \u001b[1m1s\u001b[0m 678ms/step\n",
      "\u001b[1m1/1\u001b[0m \u001b[32m━━━━━━━━━━━━━━━━━━━━\u001b[0m\u001b[37m\u001b[0m \u001b[1m1s\u001b[0m 677ms/step\n",
      "\u001b[1m1/1\u001b[0m \u001b[32m━━━━━━━━━━━━━━━━━━━━\u001b[0m\u001b[37m\u001b[0m \u001b[1m1s\u001b[0m 672ms/step\n",
      "\u001b[1m1/1\u001b[0m \u001b[32m━━━━━━━━━━━━━━━━━━━━\u001b[0m\u001b[37m\u001b[0m \u001b[1m1s\u001b[0m 687ms/step\n",
      "\u001b[1m1/1\u001b[0m \u001b[32m━━━━━━━━━━━━━━━━━━━━\u001b[0m\u001b[37m\u001b[0m \u001b[1m1s\u001b[0m 673ms/step\n",
      "\u001b[1m1/1\u001b[0m \u001b[32m━━━━━━━━━━━━━━━━━━━━\u001b[0m\u001b[37m\u001b[0m \u001b[1m1s\u001b[0m 674ms/step\n",
      "\u001b[1m1/1\u001b[0m \u001b[32m━━━━━━━━━━━━━━━━━━━━\u001b[0m\u001b[37m\u001b[0m \u001b[1m1s\u001b[0m 681ms/step\n",
      "\u001b[1m1/1\u001b[0m \u001b[32m━━━━━━━━━━━━━━━━━━━━\u001b[0m\u001b[37m\u001b[0m \u001b[1m1s\u001b[0m 671ms/step\n",
      "\u001b[1m1/1\u001b[0m \u001b[32m━━━━━━━━━━━━━━━━━━━━\u001b[0m\u001b[37m\u001b[0m \u001b[1m1s\u001b[0m 680ms/step\n",
      "\u001b[1m1/1\u001b[0m \u001b[32m━━━━━━━━━━━━━━━━━━━━\u001b[0m\u001b[37m\u001b[0m \u001b[1m1s\u001b[0m 670ms/step\n",
      "\u001b[1m1/1\u001b[0m \u001b[32m━━━━━━━━━━━━━━━━━━━━\u001b[0m\u001b[37m\u001b[0m \u001b[1m1s\u001b[0m 678ms/step\n",
      "\u001b[1m1/1\u001b[0m \u001b[32m━━━━━━━━━━━━━━━━━━━━\u001b[0m\u001b[37m\u001b[0m \u001b[1m1s\u001b[0m 678ms/step\n",
      "\u001b[1m1/1\u001b[0m \u001b[32m━━━━━━━━━━━━━━━━━━━━\u001b[0m\u001b[37m\u001b[0m \u001b[1m1s\u001b[0m 666ms/step\n",
      "\u001b[1m1/1\u001b[0m \u001b[32m━━━━━━━━━━━━━━━━━━━━\u001b[0m\u001b[37m\u001b[0m \u001b[1m1s\u001b[0m 676ms/step\n",
      "\u001b[1m1/1\u001b[0m \u001b[32m━━━━━━━━━━━━━━━━━━━━\u001b[0m\u001b[37m\u001b[0m \u001b[1m1s\u001b[0m 676ms/step\n",
      "\u001b[1m1/1\u001b[0m \u001b[32m━━━━━━━━━━━━━━━━━━━━\u001b[0m\u001b[37m\u001b[0m \u001b[1m1s\u001b[0m 673ms/step\n",
      "\u001b[1m1/1\u001b[0m \u001b[32m━━━━━━━━━━━━━━━━━━━━\u001b[0m\u001b[37m\u001b[0m \u001b[1m1s\u001b[0m 674ms/step\n",
      "\u001b[1m1/1\u001b[0m \u001b[32m━━━━━━━━━━━━━━━━━━━━\u001b[0m\u001b[37m\u001b[0m \u001b[1m1s\u001b[0m 674ms/step\n",
      "\u001b[1m1/1\u001b[0m \u001b[32m━━━━━━━━━━━━━━━━━━━━\u001b[0m\u001b[37m\u001b[0m \u001b[1m1s\u001b[0m 850ms/step\n",
      "\u001b[1m1/1\u001b[0m \u001b[32m━━━━━━━━━━━━━━━━━━━━\u001b[0m\u001b[37m\u001b[0m \u001b[1m1s\u001b[0m 680ms/step\n",
      "\u001b[1m1/1\u001b[0m \u001b[32m━━━━━━━━━━━━━━━━━━━━\u001b[0m\u001b[37m\u001b[0m \u001b[1m1s\u001b[0m 678ms/step\n",
      "\u001b[1m1/1\u001b[0m \u001b[32m━━━━━━━━━━━━━━━━━━━━\u001b[0m\u001b[37m\u001b[0m \u001b[1m1s\u001b[0m 671ms/step\n",
      "\u001b[1m1/1\u001b[0m \u001b[32m━━━━━━━━━━━━━━━━━━━━\u001b[0m\u001b[37m\u001b[0m \u001b[1m1s\u001b[0m 711ms/step\n",
      "\u001b[1m1/1\u001b[0m \u001b[32m━━━━━━━━━━━━━━━━━━━━\u001b[0m\u001b[37m\u001b[0m \u001b[1m1s\u001b[0m 671ms/step\n",
      "\u001b[1m1/1\u001b[0m \u001b[32m━━━━━━━━━━━━━━━━━━━━\u001b[0m\u001b[37m\u001b[0m \u001b[1m1s\u001b[0m 660ms/step\n",
      "\u001b[1m1/1\u001b[0m \u001b[32m━━━━━━━━━━━━━━━━━━━━\u001b[0m\u001b[37m\u001b[0m \u001b[1m1s\u001b[0m 675ms/step\n",
      "\u001b[1m1/1\u001b[0m \u001b[32m━━━━━━━━━━━━━━━━━━━━\u001b[0m\u001b[37m\u001b[0m \u001b[1m1s\u001b[0m 686ms/step\n",
      "\u001b[1m1/1\u001b[0m \u001b[32m━━━━━━━━━━━━━━━━━━━━\u001b[0m\u001b[37m\u001b[0m \u001b[1m1s\u001b[0m 673ms/step\n",
      "\u001b[1m1/1\u001b[0m \u001b[32m━━━━━━━━━━━━━━━━━━━━\u001b[0m\u001b[37m\u001b[0m \u001b[1m1s\u001b[0m 675ms/step\n",
      "\u001b[1m1/1\u001b[0m \u001b[32m━━━━━━━━━━━━━━━━━━━━\u001b[0m\u001b[37m\u001b[0m \u001b[1m1s\u001b[0m 675ms/step\n",
      "\u001b[1m1/1\u001b[0m \u001b[32m━━━━━━━━━━━━━━━━━━━━\u001b[0m\u001b[37m\u001b[0m \u001b[1m1s\u001b[0m 715ms/step\n",
      "\u001b[1m1/1\u001b[0m \u001b[32m━━━━━━━━━━━━━━━━━━━━\u001b[0m\u001b[37m\u001b[0m \u001b[1m1s\u001b[0m 675ms/step\n",
      "\u001b[1m1/1\u001b[0m \u001b[32m━━━━━━━━━━━━━━━━━━━━\u001b[0m\u001b[37m\u001b[0m \u001b[1m0s\u001b[0m 492ms/step\n",
      "Skipped /kaggle/input/pcos-detection-using-ultrasound-images/data/test/infected/WhatsApp Image 2022-04-01 at 3.49.22 PM.jpeg: cannot identify image file '/kaggle/input/pcos-detection-using-ultrasound-images/data/test/infected/WhatsApp Image 2022-04-01 at 3.49.22 PM.jpeg'\n",
      "\u001b[1m1/1\u001b[0m \u001b[32m━━━━━━━━━━━━━━━━━━━━\u001b[0m\u001b[37m\u001b[0m \u001b[1m1s\u001b[0m 672ms/step\n",
      "\u001b[1m1/1\u001b[0m \u001b[32m━━━━━━━━━━━━━━━━━━━━\u001b[0m\u001b[37m\u001b[0m \u001b[1m1s\u001b[0m 675ms/step\n",
      "\u001b[1m1/1\u001b[0m \u001b[32m━━━━━━━━━━━━━━━━━━━━\u001b[0m\u001b[37m\u001b[0m \u001b[1m1s\u001b[0m 664ms/step\n",
      "Skipped /kaggle/input/pcos-detection-using-ultrasound-images/data/test/infected/WhatsApp Image 2022-04-01 at 3.49.45 PM.jpeg: cannot identify image file '/kaggle/input/pcos-detection-using-ultrasound-images/data/test/infected/WhatsApp Image 2022-04-01 at 3.49.45 PM.jpeg'\n",
      "\u001b[1m1/1\u001b[0m \u001b[32m━━━━━━━━━━━━━━━━━━━━\u001b[0m\u001b[37m\u001b[0m \u001b[1m1s\u001b[0m 673ms/step\n",
      "\u001b[1m1/1\u001b[0m \u001b[32m━━━━━━━━━━━━━━━━━━━━\u001b[0m\u001b[37m\u001b[0m \u001b[1m1s\u001b[0m 677ms/step\n",
      "\u001b[1m1/1\u001b[0m \u001b[32m━━━━━━━━━━━━━━━━━━━━\u001b[0m\u001b[37m\u001b[0m \u001b[1m1s\u001b[0m 677ms/step\n",
      "\u001b[1m1/1\u001b[0m \u001b[32m━━━━━━━━━━━━━━━━━━━━\u001b[0m\u001b[37m\u001b[0m \u001b[1m1s\u001b[0m 660ms/step\n",
      "\u001b[1m1/1\u001b[0m \u001b[32m━━━━━━━━━━━━━━━━━━━━\u001b[0m\u001b[37m\u001b[0m \u001b[1m1s\u001b[0m 676ms/step\n",
      "\u001b[1m1/1\u001b[0m \u001b[32m━━━━━━━━━━━━━━━━━━━━\u001b[0m\u001b[37m\u001b[0m \u001b[1m1s\u001b[0m 675ms/step\n",
      "Skipped /kaggle/input/pcos-detection-using-ultrasound-images/data/test/infected/WhatsApp Image 2022-04-01 at 3.50.20 PM.jpeg: cannot identify image file '/kaggle/input/pcos-detection-using-ultrasound-images/data/test/infected/WhatsApp Image 2022-04-01 at 3.50.20 PM.jpeg'\n",
      "\u001b[1m1/1\u001b[0m \u001b[32m━━━━━━━━━━━━━━━━━━━━\u001b[0m\u001b[37m\u001b[0m \u001b[1m1s\u001b[0m 824ms/step\n",
      "\u001b[1m1/1\u001b[0m \u001b[32m━━━━━━━━━━━━━━━━━━━━\u001b[0m\u001b[37m\u001b[0m \u001b[1m1s\u001b[0m 737ms/step\n",
      "\u001b[1m1/1\u001b[0m \u001b[32m━━━━━━━━━━━━━━━━━━━━\u001b[0m\u001b[37m\u001b[0m \u001b[1m1s\u001b[0m 673ms/step\n",
      "\u001b[1m1/1\u001b[0m \u001b[32m━━━━━━━━━━━━━━━━━━━━\u001b[0m\u001b[37m\u001b[0m \u001b[1m1s\u001b[0m 720ms/step\n",
      "\u001b[1m1/1\u001b[0m \u001b[32m━━━━━━━━━━━━━━━━━━━━\u001b[0m\u001b[37m\u001b[0m \u001b[1m1s\u001b[0m 678ms/step\n",
      "\u001b[1m1/1\u001b[0m \u001b[32m━━━━━━━━━━━━━━━━━━━━\u001b[0m\u001b[37m\u001b[0m \u001b[1m1s\u001b[0m 674ms/step\n",
      "\u001b[1m1/1\u001b[0m \u001b[32m━━━━━━━━━━━━━━━━━━━━\u001b[0m\u001b[37m\u001b[0m \u001b[1m1s\u001b[0m 676ms/step\n",
      "Skipped /kaggle/input/pcos-detection-using-ultrasound-images/data/test/infected/WhatsApp Image 2022-04-01 at 3.50.05 PM.jpeg: cannot identify image file '/kaggle/input/pcos-detection-using-ultrasound-images/data/test/infected/WhatsApp Image 2022-04-01 at 3.50.05 PM.jpeg'\n",
      "\u001b[1m1/1\u001b[0m \u001b[32m━━━━━━━━━━━━━━━━━━━━\u001b[0m\u001b[37m\u001b[0m \u001b[1m1s\u001b[0m 665ms/step\n",
      "\u001b[1m1/1\u001b[0m \u001b[32m━━━━━━━━━━━━━━━━━━━━\u001b[0m\u001b[37m\u001b[0m \u001b[1m1s\u001b[0m 680ms/step\n",
      "Skipped /kaggle/input/pcos-detection-using-ultrasound-images/data/test/infected/OIP.jpg: cannot identify image file '/kaggle/input/pcos-detection-using-ultrasound-images/data/test/infected/OIP.jpg'\n",
      "\u001b[1m1/1\u001b[0m \u001b[32m━━━━━━━━━━━━━━━━━━━━\u001b[0m\u001b[37m\u001b[0m \u001b[1m1s\u001b[0m 676ms/step\n",
      "\u001b[1m1/1\u001b[0m \u001b[32m━━━━━━━━━━━━━━━━━━━━\u001b[0m\u001b[37m\u001b[0m \u001b[1m1s\u001b[0m 679ms/step\n",
      "\u001b[1m1/1\u001b[0m \u001b[32m━━━━━━━━━━━━━━━━━━━━\u001b[0m\u001b[37m\u001b[0m \u001b[1m1s\u001b[0m 676ms/step\n",
      "\u001b[1m1/1\u001b[0m \u001b[32m━━━━━━━━━━━━━━━━━━━━\u001b[0m\u001b[37m\u001b[0m \u001b[1m1s\u001b[0m 688ms/step\n",
      "\u001b[1m1/1\u001b[0m \u001b[32m━━━━━━━━━━━━━━━━━━━━\u001b[0m\u001b[37m\u001b[0m \u001b[1m1s\u001b[0m 690ms/step\n",
      "Skipped /kaggle/input/pcos-detection-using-ultrasound-images/data/test/infected/R.jpg: cannot identify image file '/kaggle/input/pcos-detection-using-ultrasound-images/data/test/infected/R.jpg'\n",
      "\u001b[1m1/1\u001b[0m \u001b[32m━━━━━━━━━━━━━━━━━━━━\u001b[0m\u001b[37m\u001b[0m \u001b[1m1s\u001b[0m 676ms/step\n",
      "\u001b[1m1/1\u001b[0m \u001b[32m━━━━━━━━━━━━━━━━━━━━\u001b[0m\u001b[37m\u001b[0m \u001b[1m0s\u001b[0m 241ms/step\n",
      "\u001b[1m1/1\u001b[0m \u001b[32m━━━━━━━━━━━━━━━━━━━━\u001b[0m\u001b[37m\u001b[0m \u001b[1m1s\u001b[0m 679ms/step\n",
      "\u001b[1m1/1\u001b[0m \u001b[32m━━━━━━━━━━━━━━━━━━━━\u001b[0m\u001b[37m\u001b[0m \u001b[1m1s\u001b[0m 673ms/step\n",
      "Skipped /kaggle/input/pcos-detection-using-ultrasound-images/data/test/notinfected/OIP (1).jpg: cannot identify image file '/kaggle/input/pcos-detection-using-ultrasound-images/data/test/notinfected/OIP (1).jpg'\n",
      "\u001b[1m1/1\u001b[0m \u001b[32m━━━━━━━━━━━━━━━━━━━━\u001b[0m\u001b[37m\u001b[0m \u001b[1m1s\u001b[0m 677ms/step\n",
      "\u001b[1m1/1\u001b[0m \u001b[32m━━━━━━━━━━━━━━━━━━━━\u001b[0m\u001b[37m\u001b[0m \u001b[1m1s\u001b[0m 685ms/step\n",
      "\u001b[1m1/1\u001b[0m \u001b[32m━━━━━━━━━━━━━━━━━━━━\u001b[0m\u001b[37m\u001b[0m \u001b[1m1s\u001b[0m 730ms/step\n",
      "\u001b[1m1/1\u001b[0m \u001b[32m━━━━━━━━━━━━━━━━━━━━\u001b[0m\u001b[37m\u001b[0m \u001b[1m1s\u001b[0m 687ms/step\n",
      "\u001b[1m1/1\u001b[0m \u001b[32m━━━━━━━━━━━━━━━━━━━━\u001b[0m\u001b[37m\u001b[0m \u001b[1m1s\u001b[0m 691ms/step\n",
      "\u001b[1m1/1\u001b[0m \u001b[32m━━━━━━━━━━━━━━━━━━━━\u001b[0m\u001b[37m\u001b[0m \u001b[1m1s\u001b[0m 688ms/step\n",
      "\u001b[1m1/1\u001b[0m \u001b[32m━━━━━━━━━━━━━━━━━━━━\u001b[0m\u001b[37m\u001b[0m \u001b[1m1s\u001b[0m 675ms/step\n",
      "\u001b[1m1/1\u001b[0m \u001b[32m━━━━━━━━━━━━━━━━━━━━\u001b[0m\u001b[37m\u001b[0m \u001b[1m1s\u001b[0m 680ms/step\n",
      "\u001b[1m1/1\u001b[0m \u001b[32m━━━━━━━━━━━━━━━━━━━━\u001b[0m\u001b[37m\u001b[0m \u001b[1m1s\u001b[0m 774ms/step\n",
      "\u001b[1m1/1\u001b[0m \u001b[32m━━━━━━━━━━━━━━━━━━━━\u001b[0m\u001b[37m\u001b[0m \u001b[1m1s\u001b[0m 678ms/step\n",
      "\u001b[1m1/1\u001b[0m \u001b[32m━━━━━━━━━━━━━━━━━━━━\u001b[0m\u001b[37m\u001b[0m \u001b[1m1s\u001b[0m 685ms/step\n",
      "\u001b[1m1/1\u001b[0m \u001b[32m━━━━━━━━━━━━━━━━━━━━\u001b[0m\u001b[37m\u001b[0m \u001b[1m1s\u001b[0m 680ms/step\n",
      "\u001b[1m1/1\u001b[0m \u001b[32m━━━━━━━━━━━━━━━━━━━━\u001b[0m\u001b[37m\u001b[0m \u001b[1m1s\u001b[0m 683ms/step\n",
      "\u001b[1m1/1\u001b[0m \u001b[32m━━━━━━━━━━━━━━━━━━━━\u001b[0m\u001b[37m\u001b[0m \u001b[1m1s\u001b[0m 686ms/step\n",
      "\u001b[1m1/1\u001b[0m \u001b[32m━━━━━━━━━━━━━━━━━━━━\u001b[0m\u001b[37m\u001b[0m \u001b[1m1s\u001b[0m 680ms/step\n",
      "\u001b[1m1/1\u001b[0m \u001b[32m━━━━━━━━━━━━━━━━━━━━\u001b[0m\u001b[37m\u001b[0m \u001b[1m1s\u001b[0m 724ms/step\n",
      "\u001b[1m1/1\u001b[0m \u001b[32m━━━━━━━━━━━━━━━━━━━━\u001b[0m\u001b[37m\u001b[0m \u001b[1m1s\u001b[0m 685ms/step\n",
      "\u001b[1m1/1\u001b[0m \u001b[32m━━━━━━━━━━━━━━━━━━━━\u001b[0m\u001b[37m\u001b[0m \u001b[1m1s\u001b[0m 686ms/step\n",
      "\u001b[1m1/1\u001b[0m \u001b[32m━━━━━━━━━━━━━━━━━━━━\u001b[0m\u001b[37m\u001b[0m \u001b[1m1s\u001b[0m 683ms/step\n",
      "Skipped /kaggle/input/pcos-detection-using-ultrasound-images/data/test/notinfected/img_0_7.jpg: cannot identify image file '/kaggle/input/pcos-detection-using-ultrasound-images/data/test/notinfected/img_0_7.jpg'\n",
      "\u001b[1m1/1\u001b[0m \u001b[32m━━━━━━━━━━━━━━━━━━━━\u001b[0m\u001b[37m\u001b[0m \u001b[1m1s\u001b[0m 683ms/step\n",
      "\u001b[1m1/1\u001b[0m \u001b[32m━━━━━━━━━━━━━━━━━━━━\u001b[0m\u001b[37m\u001b[0m \u001b[1m1s\u001b[0m 677ms/step\n",
      "\u001b[1m1/1\u001b[0m \u001b[32m━━━━━━━━━━━━━━━━━━━━\u001b[0m\u001b[37m\u001b[0m \u001b[1m1s\u001b[0m 675ms/step\n",
      "\u001b[1m1/1\u001b[0m \u001b[32m━━━━━━━━━━━━━━━━━━━━\u001b[0m\u001b[37m\u001b[0m \u001b[1m1s\u001b[0m 684ms/step\n",
      "\u001b[1m1/1\u001b[0m \u001b[32m━━━━━━━━━━━━━━━━━━━━\u001b[0m\u001b[37m\u001b[0m \u001b[1m1s\u001b[0m 685ms/step\n",
      "\u001b[1m1/1\u001b[0m \u001b[32m━━━━━━━━━━━━━━━━━━━━\u001b[0m\u001b[37m\u001b[0m \u001b[1m1s\u001b[0m 680ms/step\n",
      "\u001b[1m1/1\u001b[0m \u001b[32m━━━━━━━━━━━━━━━━━━━━\u001b[0m\u001b[37m\u001b[0m \u001b[1m1s\u001b[0m 663ms/step\n",
      "\u001b[1m1/1\u001b[0m \u001b[32m━━━━━━━━━━━━━━━━━━━━\u001b[0m\u001b[37m\u001b[0m \u001b[1m1s\u001b[0m 683ms/step\n",
      "Skipped /kaggle/input/pcos-detection-using-ultrasound-images/data/test/notinfected/WhatsApp Image 2022-04-01 at 3.39.07 PM.jpeg: cannot identify image file '/kaggle/input/pcos-detection-using-ultrasound-images/data/test/notinfected/WhatsApp Image 2022-04-01 at 3.39.07 PM.jpeg'\n",
      "\u001b[1m1/1\u001b[0m \u001b[32m━━━━━━━━━━━━━━━━━━━━\u001b[0m\u001b[37m\u001b[0m \u001b[1m1s\u001b[0m 684ms/step\n",
      "Skipped /kaggle/input/pcos-detection-using-ultrasound-images/data/test/notinfected/WhatsApp Image 2022-04-01 at 3.35.25 PM.jpeg: cannot identify image file '/kaggle/input/pcos-detection-using-ultrasound-images/data/test/notinfected/WhatsApp Image 2022-04-01 at 3.35.25 PM.jpeg'\n",
      "\u001b[1m1/1\u001b[0m \u001b[32m━━━━━━━━━━━━━━━━━━━━\u001b[0m\u001b[37m\u001b[0m \u001b[1m1s\u001b[0m 692ms/step\n",
      "\u001b[1m1/1\u001b[0m \u001b[32m━━━━━━━━━━━━━━━━━━━━\u001b[0m\u001b[37m\u001b[0m \u001b[1m1s\u001b[0m 940ms/step\n",
      "\u001b[1m1/1\u001b[0m \u001b[32m━━━━━━━━━━━━━━━━━━━━\u001b[0m\u001b[37m\u001b[0m \u001b[1m1s\u001b[0m 738ms/step\n",
      "\u001b[1m1/1\u001b[0m \u001b[32m━━━━━━━━━━━━━━━━━━━━\u001b[0m\u001b[37m\u001b[0m \u001b[1m1s\u001b[0m 685ms/step\n",
      "\u001b[1m1/1\u001b[0m \u001b[32m━━━━━━━━━━━━━━━━━━━━\u001b[0m\u001b[37m\u001b[0m \u001b[1m1s\u001b[0m 679ms/step\n",
      "\u001b[1m1/1\u001b[0m \u001b[32m━━━━━━━━━━━━━━━━━━━━\u001b[0m\u001b[37m\u001b[0m \u001b[1m0s\u001b[0m 452ms/step\n"
     ]
    }
   ],
   "source": [
    "# Load and filter the PCOS data, using the batch_size parameter if needed\n",
    "pcos_image_paths, pcos_labels = load_and_filter_pcos_data(batch_size=32)"
   ]
  },
  {
   "cell_type": "code",
   "execution_count": 52,
   "metadata": {
    "execution": {
     "iopub.execute_input": "2025-01-29T10:38:57.157209Z",
     "iopub.status.busy": "2025-01-29T10:38:57.156761Z",
     "iopub.status.idle": "2025-01-29T10:38:57.163624Z",
     "shell.execute_reply": "2025-01-29T10:38:57.162536Z",
     "shell.execute_reply.started": "2025-01-29T10:38:57.157178Z"
    },
    "trusted": true
   },
   "outputs": [
    {
     "name": "stdout",
     "output_type": "stream",
     "text": [
      "Found 3846 filtered PCOS images\n"
     ]
    }
   ],
   "source": [
    "# After loading the data\n",
    "print(f\"Found {len(pcos_image_paths)} filtered PCOS images\")\n",
    "if len(pcos_image_paths) == 0:\n",
    "    print(\"\"\"\n",
    "    Error: No PCOS images passed the ultrasound filter!\n",
    "    Possible reasons:\n",
    "    1. Classifier threshold too strict (try 0.3 instead of 0.5)\n",
    "    2. Incorrect PCOS image paths\n",
    "    3. Ultrasound classifier isn't working properly\n",
    "    \"\"\")"
   ]
  },
  {
   "cell_type": "code",
   "execution_count": 53,
   "metadata": {
    "execution": {
     "iopub.execute_input": "2025-01-29T10:38:59.600308Z",
     "iopub.status.busy": "2025-01-29T10:38:59.599971Z",
     "iopub.status.idle": "2025-01-29T10:38:59.604835Z",
     "shell.execute_reply": "2025-01-29T10:38:59.603663Z",
     "shell.execute_reply.started": "2025-01-29T10:38:59.600283Z"
    },
    "trusted": true
   },
   "outputs": [],
   "source": [
    "from sklearn.model_selection import train_test_split"
   ]
  },
  {
   "cell_type": "code",
   "execution_count": 54,
   "metadata": {
    "execution": {
     "iopub.execute_input": "2025-01-29T10:39:02.765812Z",
     "iopub.status.busy": "2025-01-29T10:39:02.765369Z",
     "iopub.status.idle": "2025-01-29T10:39:02.777281Z",
     "shell.execute_reply": "2025-01-29T10:39:02.775922Z",
     "shell.execute_reply.started": "2025-01-29T10:39:02.765782Z"
    },
    "trusted": true
   },
   "outputs": [],
   "source": [
    "#split to train and test set\n",
    "train_paths, val_paths, train_labels, val_labels = train_test_split(\n",
    "    pcos_image_paths,\n",
    "    pcos_labels,\n",
    "    test_size=0.2,\n",
    "    stratify=pcos_labels,\n",
    "    random_state=42\n",
    ")"
   ]
  },
  {
   "cell_type": "code",
   "execution_count": 55,
   "metadata": {
    "execution": {
     "iopub.execute_input": "2025-01-29T10:39:05.533734Z",
     "iopub.status.busy": "2025-01-29T10:39:05.533319Z",
     "iopub.status.idle": "2025-01-29T10:39:07.300367Z",
     "shell.execute_reply": "2025-01-29T10:39:07.299320Z",
     "shell.execute_reply.started": "2025-01-29T10:39:05.533699Z"
    },
    "trusted": true
   },
   "outputs": [
    {
     "name": "stdout",
     "output_type": "stream",
     "text": [
      "Found 3076 validated image filenames.\n",
      "Found 770 validated image filenames.\n"
     ]
    }
   ],
   "source": [
    "# Data generators with ultrasound-specific augmentation\n",
    "pcos_train_datagen = tf.keras.preprocessing.image.ImageDataGenerator(\n",
    "    rescale=1/255.0,\n",
    "    zoom_range=0.1,\n",
    "    width_shift_range=0.05,\n",
    "    height_shift_range=0.05,\n",
    "    brightness_range=[0.9, 1.1],\n",
    "    horizontal_flip=True\n",
    ")\n",
    "\n",
    "def dataframe_generator(paths, labels):\n",
    "    df = pd.DataFrame({'filename': paths, 'class': labels})\n",
    "    return df\n",
    "\n",
    "train_df = dataframe_generator(train_paths, train_labels)\n",
    "val_df = dataframe_generator(val_paths, val_labels)\n",
    "\n",
    "train_gen = pcos_train_datagen.flow_from_dataframe(\n",
    "    train_df,\n",
    "    x_col='filename',\n",
    "    y_col='class',\n",
    "    target_size=(224, 224),\n",
    "    batch_size=32,\n",
    "    class_mode='raw'\n",
    ")\n",
    "\n",
    "val_gen = pcos_train_datagen.flow_from_dataframe(\n",
    "    val_df,\n",
    "    x_col='filename',\n",
    "    y_col='class',\n",
    "    target_size=(224, 224),\n",
    "    batch_size=32,\n",
    "    class_mode='raw'\n",
    ")\n"
   ]
  },
  {
   "cell_type": "code",
   "execution_count": 56,
   "metadata": {
    "execution": {
     "iopub.execute_input": "2025-01-29T10:39:12.602710Z",
     "iopub.status.busy": "2025-01-29T10:39:12.602307Z",
     "iopub.status.idle": "2025-01-29T10:39:12.608824Z",
     "shell.execute_reply": "2025-01-29T10:39:12.607611Z",
     "shell.execute_reply.started": "2025-01-29T10:39:12.602677Z"
    },
    "trusted": true
   },
   "outputs": [],
   "source": [
    "# Build PCOS Model\n",
    "def build_pcos_model():\n",
    "    base_model = MobileNetV2(\n",
    "        input_shape=(224, 224, 3),\n",
    "        include_top=False,\n",
    "        weights='imagenet'\n",
    "    )\n",
    "    base_model.trainable = False\n",
    "    \n",
    "    model = models.Sequential([\n",
    "        base_model,\n",
    "        layers.GlobalAveragePooling2D(),\n",
    "        layers.Dense(256, activation='relu'),\n",
    "        layers.Dropout(0.5),\n",
    "        layers.Dense(1, activation='sigmoid')\n",
    "    ])\n",
    "    \n",
    "    model.compile(\n",
    "        optimizer=Adam(0.0001),\n",
    "        loss='binary_crossentropy',\n",
    "        metrics=['accuracy']\n",
    "    )\n",
    "    return model"
   ]
  },
  {
   "cell_type": "code",
   "execution_count": 58,
   "metadata": {
    "execution": {
     "iopub.execute_input": "2025-01-29T11:11:05.345397Z",
     "iopub.status.busy": "2025-01-29T11:11:05.345044Z",
     "iopub.status.idle": "2025-01-29T11:40:21.447708Z",
     "shell.execute_reply": "2025-01-29T11:40:21.446402Z",
     "shell.execute_reply.started": "2025-01-29T11:11:05.345369Z"
    },
    "trusted": true
   },
   "outputs": [
    {
     "name": "stdout",
     "output_type": "stream",
     "text": [
      "Epoch 1/15\n",
      "\u001b[1m97/97\u001b[0m \u001b[32m━━━━━━━━━━━━━━━━━━━━\u001b[0m\u001b[37m\u001b[0m \u001b[1m121s\u001b[0m 1s/step - accuracy: 0.7910 - loss: 0.4275 - val_accuracy: 1.0000 - val_loss: 0.0239\n",
      "Epoch 2/15\n",
      "\u001b[1m97/97\u001b[0m \u001b[32m━━━━━━━━━━━━━━━━━━━━\u001b[0m\u001b[37m\u001b[0m \u001b[1m114s\u001b[0m 1s/step - accuracy: 0.9994 - loss: 0.0282 - val_accuracy: 1.0000 - val_loss: 0.0067\n",
      "Epoch 3/15\n",
      "\u001b[1m97/97\u001b[0m \u001b[32m━━━━━━━━━━━━━━━━━━━━\u001b[0m\u001b[37m\u001b[0m \u001b[1m113s\u001b[0m 1s/step - accuracy: 0.9992 - loss: 0.0124 - val_accuracy: 1.0000 - val_loss: 0.0032\n",
      "Epoch 4/15\n",
      "\u001b[1m97/97\u001b[0m \u001b[32m━━━━━━━━━━━━━━━━━━━━\u001b[0m\u001b[37m\u001b[0m \u001b[1m132s\u001b[0m 1s/step - accuracy: 1.0000 - loss: 0.0066 - val_accuracy: 1.0000 - val_loss: 0.0021\n",
      "Epoch 5/15\n",
      "\u001b[1m97/97\u001b[0m \u001b[32m━━━━━━━━━━━━━━━━━━━━\u001b[0m\u001b[37m\u001b[0m \u001b[1m113s\u001b[0m 1s/step - accuracy: 0.9997 - loss: 0.0053 - val_accuracy: 1.0000 - val_loss: 0.0015\n",
      "Epoch 6/15\n",
      "\u001b[1m97/97\u001b[0m \u001b[32m━━━━━━━━━━━━━━━━━━━━\u001b[0m\u001b[37m\u001b[0m \u001b[1m114s\u001b[0m 1s/step - accuracy: 1.0000 - loss: 0.0033 - val_accuracy: 1.0000 - val_loss: 0.0011\n",
      "Epoch 7/15\n",
      "\u001b[1m97/97\u001b[0m \u001b[32m━━━━━━━━━━━━━━━━━━━━\u001b[0m\u001b[37m\u001b[0m \u001b[1m133s\u001b[0m 1s/step - accuracy: 1.0000 - loss: 0.0021 - val_accuracy: 1.0000 - val_loss: 9.1777e-04\n",
      "Epoch 8/15\n",
      "\u001b[1m97/97\u001b[0m \u001b[32m━━━━━━━━━━━━━━━━━━━━\u001b[0m\u001b[37m\u001b[0m \u001b[1m112s\u001b[0m 1s/step - accuracy: 1.0000 - loss: 0.0017 - val_accuracy: 1.0000 - val_loss: 5.9861e-04\n",
      "Epoch 9/15\n",
      "\u001b[1m97/97\u001b[0m \u001b[32m━━━━━━━━━━━━━━━━━━━━\u001b[0m\u001b[37m\u001b[0m \u001b[1m114s\u001b[0m 1s/step - accuracy: 1.0000 - loss: 0.0014 - val_accuracy: 1.0000 - val_loss: 4.6072e-04\n",
      "Epoch 10/15\n",
      "\u001b[1m97/97\u001b[0m \u001b[32m━━━━━━━━━━━━━━━━━━━━\u001b[0m\u001b[37m\u001b[0m \u001b[1m114s\u001b[0m 1s/step - accuracy: 1.0000 - loss: 0.0016 - val_accuracy: 1.0000 - val_loss: 4.7658e-04\n",
      "Epoch 11/15\n",
      "\u001b[1m97/97\u001b[0m \u001b[32m━━━━━━━━━━━━━━━━━━━━\u001b[0m\u001b[37m\u001b[0m \u001b[1m115s\u001b[0m 1s/step - accuracy: 1.0000 - loss: 0.0012 - val_accuracy: 1.0000 - val_loss: 2.6029e-04\n",
      "Epoch 12/15\n",
      "\u001b[1m97/97\u001b[0m \u001b[32m━━━━━━━━━━━━━━━━━━━━\u001b[0m\u001b[37m\u001b[0m \u001b[1m114s\u001b[0m 1s/step - accuracy: 1.0000 - loss: 0.0016 - val_accuracy: 1.0000 - val_loss: 2.5271e-04\n",
      "Epoch 13/15\n",
      "\u001b[1m97/97\u001b[0m \u001b[32m━━━━━━━━━━━━━━━━━━━━\u001b[0m\u001b[37m\u001b[0m \u001b[1m116s\u001b[0m 1s/step - accuracy: 1.0000 - loss: 8.1287e-04 - val_accuracy: 1.0000 - val_loss: 2.0875e-04\n",
      "Epoch 14/15\n",
      "\u001b[1m97/97\u001b[0m \u001b[32m━━━━━━━━━━━━━━━━━━━━\u001b[0m\u001b[37m\u001b[0m \u001b[1m115s\u001b[0m 1s/step - accuracy: 1.0000 - loss: 5.4814e-04 - val_accuracy: 1.0000 - val_loss: 1.4410e-04\n",
      "Epoch 15/15\n",
      "\u001b[1m97/97\u001b[0m \u001b[32m━━━━━━━━━━━━━━━━━━━━\u001b[0m\u001b[37m\u001b[0m \u001b[1m115s\u001b[0m 1s/step - accuracy: 1.0000 - loss: 5.5122e-04 - val_accuracy: 1.0000 - val_loss: 1.4380e-04\n"
     ]
    }
   ],
   "source": [
    "# Handle class imbalance\n",
    "class_weights = class_weight.compute_class_weight(\n",
    "    'balanced',\n",
    "    classes=np.unique(train_labels),\n",
    "    y=train_labels\n",
    ")\n",
    "class_weights = dict(enumerate(class_weights))\n",
    "\n",
    "# Train PCOS Model\n",
    "pcos_model = build_pcos_model()\n",
    "history = pcos_model.fit(\n",
    "    train_gen,\n",
    "    validation_data=val_gen,\n",
    "    epochs=15,\n",
    "    class_weight=class_weights #imbalanced dataset addressed\n",
    ")\n"
   ]
  },
  {
   "cell_type": "code",
   "execution_count": 59,
   "metadata": {
    "execution": {
     "iopub.execute_input": "2025-01-29T11:45:01.488023Z",
     "iopub.status.busy": "2025-01-29T11:45:01.487625Z",
     "iopub.status.idle": "2025-01-29T11:45:01.495263Z",
     "shell.execute_reply": "2025-01-29T11:45:01.494216Z",
     "shell.execute_reply.started": "2025-01-29T11:45:01.487993Z"
    },
    "trusted": true
   },
   "outputs": [],
   "source": [
    "\n",
    "# 4. Inference System\n",
    "\n",
    "\n",
    "def pcos_detection_pipeline(image_path):\n",
    "    \"\"\"Full pipeline: Ultrasound check → PCOS prediction\"\"\"\n",
    "    try:\n",
    "        # Load and preprocess\n",
    "        img = Image.open(image_path).convert('RGB').resize((224, 224))\n",
    "        img_array = np.expand_dims(np.array(img)/255.0, axis=0)\n",
    "        \n",
    "        # Ultrasound check\n",
    "        if usg_classifier.predict(img_array)[0][0] < 0.5:\n",
    "            return \"Rejected: Not an ultrasound image\"\n",
    "        \n",
    "        # PCOS prediction\n",
    "        prediction = pcos_model.predict(img_array)[0][0]\n",
    "        return f\"PCOS Positive ({prediction:.2f})\" if prediction > 0.5 else f\"Normal ({prediction:.2f})\"\n",
    "    \n",
    "    except Exception as e:\n",
    "        return f\"Error: {str(e)}\"\n",
    "\n"
   ]
  },
  {
   "cell_type": "code",
   "execution_count": 60,
   "metadata": {
    "execution": {
     "iopub.execute_input": "2025-01-29T11:45:06.814283Z",
     "iopub.status.busy": "2025-01-29T11:45:06.813749Z",
     "iopub.status.idle": "2025-01-29T11:45:06.965001Z",
     "shell.execute_reply": "2025-01-29T11:45:06.963958Z",
     "shell.execute_reply.started": "2025-01-29T11:45:06.814237Z"
    },
    "trusted": true
   },
   "outputs": [
    {
     "name": "stdout",
     "output_type": "stream",
     "text": [
      "\u001b[1m1/1\u001b[0m \u001b[32m━━━━━━━━━━━━━━━━━━━━\u001b[0m\u001b[37m\u001b[0m \u001b[1m0s\u001b[0m 55ms/step\n",
      "Rejected: Not an ultrasound image\n"
     ]
    }
   ],
   "source": [
    "# Test the pipeline\n",
    "test_image = '/kaggle/input/coco-2017-dataset/coco2017/test2017/000000000016.jpg'\n",
    "print(pcos_detection_pipeline(test_image))"
   ]
  },
  {
   "cell_type": "code",
   "execution_count": 61,
   "metadata": {
    "execution": {
     "iopub.execute_input": "2025-01-29T11:45:10.565650Z",
     "iopub.status.busy": "2025-01-29T11:45:10.565224Z",
     "iopub.status.idle": "2025-01-29T11:45:34.594377Z",
     "shell.execute_reply": "2025-01-29T11:45:34.593358Z",
     "shell.execute_reply.started": "2025-01-29T11:45:10.565620Z"
    },
    "trusted": true
   },
   "outputs": [
    {
     "name": "stdout",
     "output_type": "stream",
     "text": [
      "\u001b[1m25/25\u001b[0m \u001b[32m━━━━━━━━━━━━━━━━━━━━\u001b[0m\u001b[37m\u001b[0m \u001b[1m23s\u001b[0m 897ms/step - accuracy: 1.0000 - loss: 1.4501e-04\n",
      "Validation Loss: 0.00016185709682758898\n",
      "Validation Accuracy: 1.0\n"
     ]
    }
   ],
   "source": [
    "# Evaluate the PCOS model on the validation set\n",
    "val_loss, val_accuracy = pcos_model.evaluate(val_gen)\n",
    "print(f\"Validation Loss: {val_loss}\")\n",
    "print(f\"Validation Accuracy: {val_accuracy}\")"
   ]
  },
  {
   "cell_type": "code",
   "execution_count": 62,
   "metadata": {
    "execution": {
     "iopub.execute_input": "2025-01-29T11:47:40.884571Z",
     "iopub.status.busy": "2025-01-29T11:47:40.884088Z",
     "iopub.status.idle": "2025-01-29T11:47:41.366515Z",
     "shell.execute_reply": "2025-01-29T11:47:41.365301Z",
     "shell.execute_reply.started": "2025-01-29T11:47:40.884526Z"
    },
    "trusted": true
   },
   "outputs": [
    {
     "data": {
      "image/png": "[encoded data removed]",
      "text/plain": [
       "<Figure size 1200x600 with 2 Axes>"
      ]
     },
     "metadata": {},
     "output_type": "display_data"
    }
   ],
   "source": [
    "# Plot training and validation accuracy\n",
    "plt.figure(figsize=(12, 6))\n",
    "\n",
    "# Plot training accuracy\n",
    "plt.subplot(1, 2, 1)\n",
    "plt.plot(history.history['accuracy'], label='Training Accuracy')\n",
    "plt.plot(history.history['val_accuracy'], label='Validation Accuracy')\n",
    "plt.title('Training and Validation Accuracy')\n",
    "plt.xlabel('Epochs')\n",
    "plt.ylabel('Accuracy')\n",
    "plt.legend()\n",
    "\n",
    "# Plot training and validation loss\n",
    "plt.subplot(1, 2, 2)\n",
    "plt.plot(history.history['loss'], label='Training Loss')\n",
    "plt.plot(history.history['val_loss'], label='Validation Loss')\n",
    "plt.title('Training and Validation Loss')\n",
    "plt.xlabel('Epochs')\n",
    "plt.ylabel('Loss')\n",
    "plt.legend()\n",
    "\n",
    "plt.show()\n"
   ]
  },
  {
   "cell_type": "code",
   "execution_count": null,
   "metadata": {
    "execution": {
     "iopub.status.busy": "2025-01-29T10:22:37.324857Z",
     "iopub.status.idle": "2025-01-29T10:22:37.325307Z",
     "shell.execute_reply": "2025-01-29T10:22:37.325105Z"
    },
    "trusted": true
   },
   "outputs": [],
   "source": [
    "# Save the trained PCOS model\n",
    "pcos_model.save('/kaggle/working/pcos_model.h5')\n"
   ]
  },
  {
   "cell_type": "code",
   "execution_count": null,
   "metadata": {
    "execution": {
     "iopub.status.busy": "2025-01-29T10:22:37.326543Z",
     "iopub.status.idle": "2025-01-29T10:22:37.326941Z",
     "shell.execute_reply": "2025-01-29T10:22:37.326730Z"
    },
    "trusted": true
   },
   "outputs": [],
   "source": [
    "usg_classifier.save('/kaggle/working/usg_classifier.h5')"
   ]
  }
 ],
 "metadata": {
  "kaggle": {
   "accelerator": "none",
   "dataSources": [
    {
     "datasetId": 857191,
     "sourceId": 1462296,
     "sourceType": "datasetVersion"
    },
    {
     "datasetId": 2065225,
     "sourceId": 3426692,
     "sourceType": "datasetVersion"
    }
   ],
   "dockerImageVersionId": 30839,
   "isGpuEnabled": false,
   "isInternetEnabled": true,
   "language": "python",
   "sourceType": "notebook"
  },
  "kernelspec": {
   "display_name": "Python 3",
   "language": "python",
   "name": "python3"
  },
  "language_info": {
   "codemirror_mode": {
    "name": "ipython",
    "version": 3
   },
   "file_extension": ".py",
   "mimetype": "text/x-python",
   "name": "python",
   "nbconvert_exporter": "python",
   "pygments_lexer": "ipython3",
   "version": "3.10.12"
  }
 },
 "nbformat": 4,
 "nbformat_minor": 4
}
